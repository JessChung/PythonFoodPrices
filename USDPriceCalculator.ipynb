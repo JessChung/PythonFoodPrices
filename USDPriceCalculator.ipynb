{
 "cells": [
  {
   "cell_type": "code",
   "execution_count": 24,
   "metadata": {},
   "outputs": [
    {
     "name": "stdout",
     "output_type": "stream",
     "text": [
      "Populating the interactive namespace from numpy and matplotlib\n"
     ]
    }
   ],
   "source": [
    "from pandas import Series, DataFrame\n",
    "import pandas as pd\n",
    "from patsy import dmatrices\n",
    "\n",
    "%pylab inline"
   ]
  },
  {
   "cell_type": "code",
   "execution_count": 61,
   "metadata": {},
   "outputs": [],
   "source": [
    "food = pd.read_csv('C:/users/jessc/documents/predictivemodeling/food.csv', header = 0)\n",
    "\n",
    "#Preprocessing steps to remove missing data\n",
    "food = food[food[\"mp_year\"]!=2017]\n",
    "food = food[food[\"adm0_name\"]!=\"Cape Verde\"]\n",
    "food = food[food[\"adm0_name\"]!=\"Kyrgyzstan\"]\n",
    "food = food[food[\"adm0_name\"]!=\"State of Palestine\"]\n",
    "\n",
    "exchange = pd.read_csv('C:/users/jessc/documents/predictivemodeling/exchange.csv', header = 0)\n",
    "exchange.set_index(\"Country Name\", inplace=True)\n",
    "\n",
    "def get_exchange(c,y):\n",
    "    return exchange.loc[c].loc[y]\n",
    "\n",
    "countryyear = food.groupby([\"adm0_name\",\"mp_year\"]) \n",
    "\n",
    "names = []\n",
    "years = []\n",
    "exchangerates = []\n",
    "for name, group in countryyear:\n",
    "    names.append(str(name[0]))\n",
    "    years.append(int(name[1]))\n",
    "    exchangerates.append(get_exchange(str(name[0]),str(name[1])))\n",
    "    \n",
    "exchangedf = pd.DataFrame({\"names\":names, \"years\":years, \"exchange\":exchangerates})\n",
    "#print exchangedf[:5]\n",
    "\n",
    "foodexchange = food.merge(exchangedf, how=\"left\", left_on=[\"adm0_name\",\"mp_year\"], right_on=[\"names\",\"years\"])\n",
    "#print foodexchange\n",
    "\n",
    "foodexchange[\"usd_price\"] = foodexchange[\"mp_price\"]/foodexchange[\"exchange\"]\n",
    "\n",
    "#print foodexchange\n",
    "\n",
    "foodexchange.to_csv(\"C:/users/jessc/documents/predictivemodeling/foodpriceswithUSD.csv\")"
   ]
  }
 ],
 "metadata": {
  "kernelspec": {
   "display_name": "Python 2",
   "language": "python",
   "name": "python2"
  },
  "language_info": {
   "codemirror_mode": {
    "name": "ipython",
    "version": 2
   },
   "file_extension": ".py",
   "mimetype": "text/x-python",
   "name": "python",
   "nbconvert_exporter": "python",
   "pygments_lexer": "ipython2",
   "version": "2.7.13"
  }
 },
 "nbformat": 4,
 "nbformat_minor": 2
}
